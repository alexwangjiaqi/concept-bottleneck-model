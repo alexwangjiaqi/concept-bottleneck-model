{
 "cells": [
  {
   "cell_type": "code",
   "execution_count": 1,
   "id": "9fcf9ce4-cb07-4fb7-a7b0-3897be9b0f27",
   "metadata": {},
   "outputs": [],
   "source": [
    "import torch\n",
    "import torch.nn.functional as F\n",
    "import os\n",
    "import sys\n",
    "import numpy as np\n",
    "from sklearn.metrics import accuracy_score"
   ]
  },
  {
   "cell_type": "code",
   "execution_count": 2,
   "id": "197e7015",
   "metadata": {},
   "outputs": [
    {
     "name": "stdout",
     "output_type": "stream",
     "text": [
      "Using device: cuda\n"
     ]
    },
    {
     "ename": "NameError",
     "evalue": "name '__file__' is not defined",
     "output_type": "error",
     "traceback": [
      "\u001b[31m---------------------------------------------------------------------------\u001b[39m",
      "\u001b[31mNameError\u001b[39m                                 Traceback (most recent call last)",
      "\u001b[36mCell\u001b[39m\u001b[36m \u001b[39m\u001b[32mIn[2]\u001b[39m\u001b[32m, line 10\u001b[39m\n\u001b[32m      7\u001b[39m \u001b[38;5;28mprint\u001b[39m(\u001b[33m\"\u001b[39m\u001b[33mUsing device:\u001b[39m\u001b[33m\"\u001b[39m, device)\n\u001b[32m      9\u001b[39m \u001b[38;5;66;03m# Add project root to path so we can import modules\u001b[39;00m\n\u001b[32m---> \u001b[39m\u001b[32m10\u001b[39m sys.path.append(os.path.abspath(os.path.join(os.path.dirname(\u001b[34m__file__\u001b[39m), \u001b[33m'\u001b[39m\u001b[33m..\u001b[39m\u001b[33m'\u001b[39m)))\n\u001b[32m     12\u001b[39m \u001b[38;5;28;01mfrom\u001b[39;00m\u001b[38;5;250m \u001b[39m\u001b[34;01mcub_loader\u001b[39;00m\u001b[38;5;250m \u001b[39m\u001b[38;5;28;01mimport\u001b[39;00m load_data\n\u001b[32m     13\u001b[39m \u001b[38;5;28;01mfrom\u001b[39;00m\u001b[38;5;250m \u001b[39m\u001b[34;01mmodels\u001b[39;00m\u001b[34;01m.\u001b[39;00m\u001b[34;01mconcept_model\u001b[39;00m\u001b[38;5;250m \u001b[39m\u001b[38;5;28;01mimport\u001b[39;00m ConceptModel\n",
      "\u001b[31mNameError\u001b[39m: name '__file__' is not defined"
     ]
    }
   ],
   "source": [
    "# Define output directory\n",
    "output_dir = 'results/plots/independent'\n",
    "os.makedirs(output_dir, exist_ok=True)\n",
    "\n",
    "# ==== Setup ====\n",
    "device = torch.device(\"cuda\" if torch.cuda.is_available() else \"cpu\")\n",
    "print(\"Using device:\", device)\n",
    "\n",
    "# Add project root to path so we can import modules\n",
    "sys.path.append(os.path.abspath(os.path.join(os.path.dirname(__file__), '..')))\n",
    "\n",
    "from cub_loader import load_data\n",
    "from models.concept_model import ConceptModel\n",
    "from models.label_model import LabelModel  # assuming label model is defined there"
   ]
  },
  {
   "cell_type": "code",
   "execution_count": null,
   "id": "c8a010ba",
   "metadata": {},
   "outputs": [],
   "source": [
    "# ==== Load Test Data ====\n",
    "test_loader = load_data(\n",
    "    pkl_paths=['data/CUB_processed/test.pkl'],\n",
    "    batch_size=64,\n",
    "    use_attr=True, \n",
    "    no_img=False,\n",
    "    uncertain_label=True\n",
    ")\n",
    "\n",
    "# ==== Load Models ====\n",
    "#  Load Concept Predictor\n",
    "concept_model = ConceptModel(num_concepts=312)\n",
    "concept_model.load_state_dict(torch.load('checkpoints/concept_model.pth', map_location=device))\n",
    "concept_model.to(device)\n",
    "concept_model.eval()\n",
    "\n",
    "# Load Label Predictor\n",
    "label_model = LabelModel(num_concepts=312, num_classes=200)\n",
    "label_model.load_state_dict(torch.load('checkpoints/label_model.pth', map_location=device))\n",
    "label_model.to(device)\n",
    "label_model.eval()"
   ]
  }
 ],
 "metadata": {
  "kernelspec": {
   "display_name": "cbm",
   "language": "python",
   "name": "python3"
  },
  "language_info": {
   "codemirror_mode": {
    "name": "ipython",
    "version": 3
   },
   "file_extension": ".py",
   "mimetype": "text/x-python",
   "name": "python",
   "nbconvert_exporter": "python",
   "pygments_lexer": "ipython3",
   "version": "3.11.13"
  }
 },
 "nbformat": 4,
 "nbformat_minor": 5
}
